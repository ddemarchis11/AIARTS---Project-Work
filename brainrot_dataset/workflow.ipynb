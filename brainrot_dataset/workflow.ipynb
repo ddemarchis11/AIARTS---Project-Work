{
 "cells": [
  {
   "cell_type": "code",
   "execution_count": 10,
   "metadata": {},
   "outputs": [],
   "source": [
    "import os\n",
    "import shutil\n",
    "\n",
    "folder = os.path.abspath(\"final_img\")\n",
    "\n",
    "for name in os.listdir(folder):\n",
    "    \n",
    "    if name.startswith('.'): continue\n",
    "   \n",
    "    base, est = os.path.splitext(name)\n",
    "    \n",
    "    if os.path.isdir(os.path.join(folder,base)): continue\n",
    "    \n",
    "    new_folder = os.path.join(folder,base)\n",
    "    os.makedirs(new_folder, exist_ok=True)\n",
    "    \n",
    "    src = os.path.join(folder,name)\n",
    "    dst = os.path.join(folder,base)\n",
    "    shutil.move(src, dst)\n",
    "    print(f\"Spostato {name} → {new_folder}/\")\n",
    "    \n"
   ]
  },
  {
   "cell_type": "code",
   "execution_count": 16,
   "metadata": {},
   "outputs": [],
   "source": [
    "os.makedirs(\"augumented_data\", exist_ok = True)"
   ]
  },
  {
   "cell_type": "code",
   "execution_count": 23,
   "metadata": {},
   "outputs": [],
   "source": [
    "import albumentations as A\n",
    "import cv2\n",
    "\n",
    "transform = A.Compose([\n",
    "    A.HorizontalFlip(p=0.5),\n",
    "    A.Rotate(limit=15, p=0.7),\n",
    "    A.RandomResizedCrop(\n",
    "        size=(512, 512),\n",
    "        scale=(0.9, 1.0),\n",
    "        ratio=(0.9, 1.1),\n",
    "        interpolation=cv2.INTER_AREA,\n",
    "        p=0.6\n",
    "    ),\n",
    "    A.RandomBrightnessContrast(brightness_limit=0.15,\n",
    "                               contrast_limit=0.15, p=0.8),\n",
    "    A.HueSaturationValue(hue_shift_limit=10,\n",
    "                         sat_shift_limit=15, val_shift_limit=10, p=0.7),\n",
    "], p=1.0)"
   ]
  },
  {
   "cell_type": "code",
   "execution_count": 35,
   "metadata": {},
   "outputs": [],
   "source": [
    "input = os.path.abspath(\"final_img\")\n",
    "output = os.path.abspath(\"augumented_data\")\n",
    "\n",
    "\n",
    "for foldname in os.listdir(input):\n",
    "    \n",
    "    if foldname.startswith('.'): continue\n",
    "\n",
    "    foldname = os.path.join(input,foldname)\n",
    "    for fname in os.listdir(foldname):\n",
    "        img_path = os.path.join(foldname,fname)\n",
    "        \n",
    "        img = cv2.imread(img_path)\n",
    "        img = cv2.resize(img,(512,512), interpolation=cv2.INTER_AREA)\n",
    "        \n",
    "        base, ext = os.path.splitext(fname)\n",
    "        new_folder = os.path.join(output, base)\n",
    "        os.makedirs(new_folder, exist_ok = True)\n",
    "        \n",
    "        out_name  = f\"{base}_aug0{ext}\"\n",
    "        cv2.imwrite(os.path.join(new_folder, out_name), img)\n",
    "        \n",
    "        for i in range(5):\n",
    "            augmented = transform(image=img)[\"image\"]\n",
    "            out_name  = f\"{base}_aug{i+1}{ext}\"\n",
    "            cv2.imwrite(os.path.join(new_folder, out_name), augmented)"
   ]
  }
 ],
 "metadata": {
  "kernelspec": {
   "display_name": "venv",
   "language": "python",
   "name": "python3"
  },
  "language_info": {
   "codemirror_mode": {
    "name": "ipython",
    "version": 3
   },
   "file_extension": ".py",
   "mimetype": "text/x-python",
   "name": "python",
   "nbconvert_exporter": "python",
   "pygments_lexer": "ipython3",
   "version": "3.9.6"
  }
 },
 "nbformat": 4,
 "nbformat_minor": 2
}
