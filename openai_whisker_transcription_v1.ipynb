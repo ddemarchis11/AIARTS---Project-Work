{
 "cells": [
  {
   "cell_type": "code",
   "execution_count": 8,
   "metadata": {},
   "outputs": [],
   "source": [
    "import os\n",
    "from dotenv import load_dotenv\n",
    "from openai import OpenAI\n",
    "\n",
    "load_dotenv()\n",
    "client = OpenAI(api_key=os.getenv(\"OPENAI_API_KEY\"))\n",
    "\n",
    "AUDIO_FOLDER = os.path.abspath(\"audio_files\")\n",
    "AUDIO_FOLDER_CONVERTED = os.path.abspath(\"audio_files_converted\")\n",
    "OUTPUT_TRANSCRIPTIONS = os.path.abspath(\"trascrizioni\")\n",
    "\n",
    "def transcribe_audio(file_path: str) -> str:\n",
    "   \n",
    "    with open(file_path, \"rb\") as audio_file:\n",
    "        resp = client.audio.transcriptions.create(\n",
    "            model=\"whisper-1\",\n",
    "            file=audio_file,\n",
    "            response_format=\"text\"\n",
    "        )\n",
    "    return resp\n",
    "\n",
    "def save_transcription(text: str, output_path: str) -> None:\n",
    "\n",
    "    with open(output_path, \"w\", encoding=\"utf-8\") as f:\n",
    "        f.write(text)"
   ]
  },
  {
   "cell_type": "code",
   "execution_count": 1,
   "metadata": {},
   "outputs": [],
   "source": [
    "import os\n",
    "import whisper\n",
    "\n",
    "AUDIO_FOLDER = os.path.abspath(\"audio_files\")\n",
    "AUDIO_FOLDER_CONVERTED = os.path.abspath(\"audio_files_converted\")\n",
    "OUTPUT_TRANSCRIPTIONS = os.path.abspath(\"trascrizioni\")\n",
    "\n",
    "model = whisper.load_model(\"medium\")\n",
    "\n",
    "def transcribe_audio(file_path: str) -> str:\n",
    "    result = model.transcribe(file_path)\n",
    "    return result[\"text\"]\n",
    "\n",
    "def save_transcription(text: str, output_path: str) -> None:\n",
    "    os.makedirs(os.path.dirname(output_path), exist_ok=True)\n",
    "    with open(output_path, \"w\", encoding=\"utf-8\") as f:\n",
    "        f.write(text)\n",
    "\n",
    "if __name__ == \"__main__\":\n",
    "    for filename in os.listdir(AUDIO_FOLDER):\n",
    "        full_path = os.path.join(AUDIO_FOLDER, filename)\n",
    "        if os.path.isfile(full_path):\n",
    "            print(f\"Trascrivo: {filename}…\")\n",
    "            text = transcribe_audio(full_path)\n",
    "            out_file = os.path.join(OUTPUT_TRANSCRIPTIONS, os.path.splitext(filename)[0] + \".txt\")\n",
    "            save_transcription(text, out_file)\n",
    "            print(f\"  → Salvato in: {out_file}\")"
   ]
  },
  {
   "cell_type": "code",
   "execution_count": 2,
   "metadata": {},
   "outputs": [
    {
     "name": "stdout",
     "output_type": "stream",
     "text": [
      "Trascrivo: WhatsApp Audio 2025-05-29 at 18.54.34.mp4…\n"
     ]
    },
    {
     "name": "stderr",
     "output_type": "stream",
     "text": [
      "/Users/domenicodemarchis/Desktop/IAARTS/openAI_Whisper_Transcription/.venv/lib/python3.9/site-packages/whisper/transcribe.py:126: UserWarning: FP16 is not supported on CPU; using FP32 instead\n",
      "  warnings.warn(\"FP16 is not supported on CPU; using FP32 instead\")\n"
     ]
    },
    {
     "name": "stdout",
     "output_type": "stream",
     "text": [
      "  → Salvato in: /Users/domenicodemarchis/Desktop/IAARTS/openAI_Whisper_Transcription/trascrizioni/WhatsApp Audio 2025-05-29 at 18.54.34.txt\n"
     ]
    }
   ],
   "source": [
    "for filename in os.listdir(AUDIO_FOLDER_CONVERTED):\n",
    "        full_path = os.path.join(AUDIO_FOLDER_CONVERTED, filename)\n",
    "        if os.path.isfile(full_path):\n",
    "            print(f\"Trascrivo: {filename}…\")\n",
    "            text = transcribe_audio(full_path)\n",
    "            out_file = os.path.join(OUTPUT_TRANSCRIPTIONS, os.path.splitext(filename)[0] + \".txt\")\n",
    "            save_transcription(text, out_file)\n",
    "            print(f\"  → Salvato in: {out_file}\")"
   ]
  },
  {
   "cell_type": "code",
   "execution_count": 2,
   "metadata": {},
   "outputs": [],
   "source": [
    "from pydub import AudioSegment\n",
    "\n",
    "def convert_ogg(input_path, output_path, output_format):\n",
    "    \n",
    "    if not os.path.isfile(input_path):\n",
    "        raise FileNotFoundError(f\"Input file not found: {input_path}\")\n",
    "    if not input_path.lower().endswith('.ogg'):\n",
    "        raise Exception(\"Il File dovrebbe finire con .ogg\") \n",
    "    \n",
    "    base, _ = os.path.splitext(os.path.basename(input_path))\n",
    "    output_path = os.path.join(output_path, f\"{base}.{output_format}\")\n",
    "        \n",
    "    audio = AudioSegment.from_ogg(input_path)\n",
    "    audio.export(output_path, format=output_format)\n",
    "\n",
    "    return output_path\n",
    "\n",
    "\n",
    "def split_audio_in_two(input_path: str, output_dir: str):\n",
    "\n",
    "    size_mb = os.path.getsize(input_path) / (1024 * 1024)\n",
    "    if size_mb <= 25:\n",
    "        raise ValueError(f\"Il file è di soli {size_mb:.2f} MB; niente da splittare.\")\n",
    "\n",
    "    audio = AudioSegment.from_file(input_path)\n",
    "    duration_ms = len(audio)\n",
    "\n",
    "    midpoint = duration_ms // 2\n",
    "\n",
    "    first_half = audio[:midpoint]\n",
    "    second_half = audio[midpoint:]\n",
    "\n",
    "    os.makedirs(output_dir, exist_ok=True)\n",
    "\n",
    "    base_name, ext = os.path.splitext(os.path.basename(input_path))\n",
    "    ext = ext.replace(\".\", \"\")  # es. \"mp3\", \"wav\", ecc.\n",
    "\n",
    "    out1 = os.path.join(output_dir, f\"{base_name}_part1.{ext}\")\n",
    "    out2 = os.path.join(output_dir, f\"{base_name}_part2.{ext}\")\n",
    "    first_half.export(out1, format=ext)\n",
    "    second_half.export(out2, format=ext)\n",
    "\n",
    "    print(f\"Splitting completato:\\n - {out1}\\n - {out2}\")"
   ]
  },
  {
   "cell_type": "code",
   "execution_count": 7,
   "metadata": {},
   "outputs": [],
   "source": [
    "audio_files = [f for f in os.listdir(AUDIO_FOLDER)]\n",
    "\n",
    "for fname in audio_files:\n",
    "    base, ext = os.path.splitext(os.path.basename(fname))\n",
    "    path_audio = os.path.join(AUDIO_FOLDER,fname)\n",
    "    if ext == '.ogg': path_audio = convert_ogg(fname, AUDIO_FOLDER_CONVERTED, '.mp3')\n",
    "    size_mb = os.path.getsize(path_audio) / (1024 * 1024)\n",
    "    if size_mb > 25: split_audio_in_two(path_audio, AUDIO_FOLDER_CONVERTED)"
   ]
  },
  {
   "cell_type": "code",
   "execution_count": 8,
   "metadata": {},
   "outputs": [
    {
     "name": "stdout",
     "output_type": "stream",
     "text": [
      "=== Trascrizione Eseguita ===\n"
     ]
    }
   ],
   "source": [
    "audio_files_converted = [f for f in os.listdir(AUDIO_FOLDER_CONVERTED)]\n",
    "\n",
    "for fname in audio_files_converted:\n",
    "    audio_file = os.path.join(AUDIO_FOLDER_CONVERTED, fname)\n",
    "    base, ext = os.path.splitext(os.path.basename(fname))\n",
    "    try:\n",
    "        text = transcribe_audio(audio_file)\n",
    "        print(\"=== Trascrizione Eseguita ===\")\n",
    "        save_transcription(text, os.path.join(OUTPUT_TRANSCRIPTIONS,fname))\n",
    "    except Exception as e:\n",
    "        print(f\"Errore durante la trascrizione: {e}\")\n",
    "        exit(1)"
   ]
  }
 ],
 "metadata": {
  "kernelspec": {
   "display_name": ".venv",
   "language": "python",
   "name": "python3"
  },
  "language_info": {
   "codemirror_mode": {
    "name": "ipython",
    "version": 3
   },
   "file_extension": ".py",
   "mimetype": "text/x-python",
   "name": "python",
   "nbconvert_exporter": "python",
   "pygments_lexer": "ipython3",
   "version": "3.9.6"
  }
 },
 "nbformat": 4,
 "nbformat_minor": 2
}
